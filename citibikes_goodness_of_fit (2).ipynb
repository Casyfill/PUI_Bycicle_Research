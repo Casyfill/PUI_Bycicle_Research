{
 "cells": [
  {
   "cell_type": "markdown",
   "metadata": {
    "collapsed": true
   },
   "source": [
    "#Assignment 3:\n",
    "    test if the distribution of ages can be modelled by a Gaussian\n",
    "    \n",
    "    1) all riders\n",
    "    \n",
    "    2) summer riders vs winder riders\n",
    "    \n",
    "    use 2 tests, you can use KS, AD, or get creative. use KL or chi2 like you did in Assignment2 or perhaps new ones!\n",
    "    \n",
    "    CHALLANGE! look for a better distribution to fit the data! see notes on how to input a number of different \n",
    "    distributions into the test, not just 'norm' and the few others available by keyword"
   ]
  },
  {
   "cell_type": "markdown",
   "metadata": {},
   "source": [
    "my usual imports and setups"
   ]
  },
  {
   "cell_type": "code",
   "execution_count": 1,
   "metadata": {
    "collapsed": false,
    "scrolled": true
   },
   "outputs": [
    {
     "name": "stdout",
     "output_type": "stream",
     "text": [
      "Populating the interactive namespace from numpy and matplotlib\n"
     ]
    },
    {
     "name": "stderr",
     "output_type": "stream",
     "text": [
      "/Users/casy/anaconda/lib/python2.7/site-packages/matplotlib/__init__.py:855: UserWarning: svg.embed_char_paths is deprecated and replaced with svg.fonttype; please use the latter.\n",
      "  warnings.warn(self.msg_depr % (key, alt_key))\n"
     ]
    }
   ],
   "source": [
    "import pylab as pl\n",
    "import pandas as pd\n",
    "import numpy as np\n",
    "%pylab inline\n",
    "\n",
    "import requests\n",
    "s = requests.get(\"https://raw.githubusercontent.com/Casyfill/CUSP_templates/master/Py/fbMatplotlibrc.json\").json()\n",
    "pl.rcParams.update(s)\n",
    "\n",
    "np.random.seed(2015)\n",
    "\n",
    "#i know i will use scipy for the tests\n",
    "import scipy.stats"
   ]
  },
  {
   "cell_type": "code",
   "execution_count": 2,
   "metadata": {
    "collapsed": true
   },
   "outputs": [],
   "source": [
    "import zipfile\n",
    "import StringIO\n",
    "\n",
    "\n",
    "def urlZipToDF(url):\n",
    "    name = url.split('/')[-1].replace('zip','csv')\n",
    "    r = requests.get(url)\n",
    "    z = zipfile.ZipFile(StringIO.StringIO(r.content))\n",
    "    csvZ = [x for x in z.namelist() if '.csv' in x][0] #simply first csv in list\n",
    "    return pd.read_csv(z.open(csvZ))\n",
    "\n",
    "\n",
    "def getCitibikeData(year, month):\n",
    "    url = 'https://s3.amazonaws.com/tripdata/%d%s-citibike-tripdata.zip' %(year, (\"%02d\" % month))\n",
    "    return urlZipToDF(url)"
   ]
  },
  {
   "cell_type": "code",
   "execution_count": 3,
   "metadata": {
    "collapsed": true
   },
   "outputs": [],
   "source": [
    "w1 = getCitibikeData(2013,12)\n",
    "w2 = getCitibikeData(2014,1)"
   ]
  },
  {
   "cell_type": "code",
   "execution_count": 4,
   "metadata": {
    "collapsed": false
   },
   "outputs": [],
   "source": [
    "winter = pd.concat([w1,w2])"
   ]
  },
  {
   "cell_type": "code",
   "execution_count": 5,
   "metadata": {
    "collapsed": false
   },
   "outputs": [],
   "source": [
    "s1  = getCitibikeData(2014,6)\n",
    "s2  = getCitibikeData(2014,7)\n",
    "\n",
    "summer = pd.concat([s1,s2])"
   ]
  },
  {
   "cell_type": "markdown",
   "metadata": {},
   "source": [
    "I need 2 seasons, lets start reading in data from January 2015, and June 2015. \n",
    "One month is not a season. You should import data from other months in the winter as well, and then several summer months to get the other distribution. I am being lazy but you should not be. \n",
    "\n"
   ]
  },
  {
   "cell_type": "markdown",
   "metadata": {},
   "source": [
    "## get the age like we did before, subscribers only cause otherwise the ages are really sparse anyways\n"
   ]
  },
  {
   "cell_type": "code",
   "execution_count": 6,
   "metadata": {
    "collapsed": true
   },
   "outputs": [],
   "source": [
    "#df is the dataframe where the content of the csv file is stored\n",
    "summer = summer[summer['usertype'] == 'Subscriber']\n",
    "winter = winter[winter['usertype'] == 'Subscriber']"
   ]
  },
  {
   "cell_type": "code",
   "execution_count": 7,
   "metadata": {
    "collapsed": true
   },
   "outputs": [],
   "source": [
    "winter['age'] = 2015-winter['birth year'].astype(float)"
   ]
  },
  {
   "cell_type": "code",
   "execution_count": 8,
   "metadata": {
    "collapsed": false
   },
   "outputs": [],
   "source": [
    "#my Summer datum is durty, have to cleen it\n",
    "\n",
    "def tryFloat(x):\n",
    "    if '\\N' in x:\n",
    "        return None\n",
    "    else: \n",
    "        return float(x)\n",
    "        \n",
    "\n",
    "summer['birth year'] = summer['birth year'].apply(tryFloat)"
   ]
  },
  {
   "cell_type": "code",
   "execution_count": 9,
   "metadata": {
    "collapsed": false
   },
   "outputs": [],
   "source": [
    "summer['age'] = 2015-summer['birth year'].astype(float)"
   ]
  },
  {
   "cell_type": "markdown",
   "metadata": {},
   "source": [
    "lets split age in 10 year bins. see the comment in assignment 1 about this"
   ]
  },
  {
   "cell_type": "code",
   "execution_count": 12,
   "metadata": {
    "collapsed": false
   },
   "outputs": [
    {
     "data": {
      "image/png": "[encoded data removed]",
      "text/plain": [
       "<matplotlib.figure.Figure at 0x113f241d0>"
      ]
     },
     "metadata": {},
     "output_type": "display_data"
    },
    {
     "data": {
      "image/png": "[encoded data removed]",
      "text/plain": [
       "<matplotlib.figure.Figure at 0x10d9b0fd0>"
      ]
     },
     "metadata": {},
     "output_type": "display_data"
    }
   ],
   "source": [
    "bins = np.arange(10, 99, 10)\n",
    "\n",
    "winter.age.groupby(pd.cut(winter.age, bins)).agg([count_nonzero]).plot(kind='bar', legend=0, alpha = 0.4,  color='teal', title='Winter')\n",
    "summer.age.groupby(pd.cut(summer.age, bins)).agg([count_nonzero]).plot(kind='bar', legend=0, alpha = 0.4,  color='teal', title=\"Summer\")\n",
    "\n",
    "\n",
    "W_age_dist = winter.age.groupby(pd.cut(winter.age, bins)).agg([count_nonzero])\n",
    "S_age_dist = summer.age.groupby(pd.cut(summer.age, bins)).agg([count_nonzero])\n",
    "    "
   ]
  },
  {
   "cell_type": "markdown",
   "metadata": {},
   "source": [
    "how do they look? what should I expect? setting some expectation is useful as a sanity check!"
   ]
  },
  {
   "cell_type": "markdown",
   "metadata": {},
   "source": [
    "lets run the scipy KS test"
   ]
  },
  {
   "cell_type": "markdown",
   "metadata": {
    "collapsed": true
   },
   "source": [
    "#KS testsfor goodness of fit\n",
    "\n",
    "http://docs.scipy.org/doc/scipy/reference/generated/scipy.stats.kstest.html"
   ]
  },
  {
   "cell_type": "code",
   "execution_count": 16,
   "metadata": {
    "collapsed": false
   },
   "outputs": [
    {
     "name": "stdout",
     "output_type": "stream",
     "text": [
      "winter, normal fit KstestResult(statistic=1.0, pvalue=0.0)\n",
      "summer, normal fit KstestResult(statistic=1.0, pvalue=0.0)\n",
      "winter, normal fit KstestResult(statistic=0.99999867471933412, pvalue=0.0)\n",
      "summer, normal fit KstestResult(statistic=0.99999945320357075, pvalue=0.0)\n"
     ]
    }
   ],
   "source": [
    "#compare to normal\n",
    "\n",
    "ksW=scipy.stats.kstest(W_age_dist, 'norm')\n",
    "ksS=scipy.stats.kstest(S_age_dist, 'norm')\n",
    "print \"winter, normal fit\", ksW\n",
    "print \"summer, normal fit\", ksS\n",
    "\n",
    "#compare to poisson \n",
    "\n",
    "ksW=scipy.stats.kstest(W_age_dist, 'cauchy')\n",
    "ksS=scipy.stats.kstest(S_age_dist, 'cauchy')\n",
    "print \"winter, normal fit\", ksW\n",
    "print \"summer, normal fit\", ksS"
   ]
  },
  {
   "cell_type": "markdown",
   "metadata": {},
   "source": [
    "the scipy KS test works with keywords only for scipy.stats distributions \n",
    "that take as a single argument the size of the sample, like norm and cauchy look them up to make sure I am right!\n",
    "if i want to test against a distribution which takes more arguments like Poisson, which in scipy.stats takes the \n",
    "lambda parameter and the size (2 arguments) i can pass the extra arguments in arg, like i do below: "
   ]
  },
  {
   "cell_type": "code",
   "execution_count": null,
   "metadata": {
    "collapsed": false
   },
   "outputs": [],
   "source": [
    "ksW=scipy.stats.kstest(W_age_dist, 'gamma', args=(35,))\n",
    "ksS=scipy.stats.kstest(S_age_dist, 'gamma', args=(35,))\n",
    "\n",
    "print \"winter, normal fit\", ksW\n",
    "print \"summer, normal fit\", ksS"
   ]
  },
  {
   "cell_type": "markdown",
   "metadata": {},
   "source": [
    "or i can create my function separately, then call it: all i need to do is define a function that calls  like i am doing below. the size argument must come first, and the second argument of kstest will no longer be a string, but the function itself (what we would call a \"callable\")"
   ]
  },
  {
   "cell_type": "code",
   "execution_count": 23,
   "metadata": {
    "collapsed": false
   },
   "outputs": [],
   "source": [
    "def mydistribution(size, m0, m1):\n",
    "    #this is a crazy dumb function, but i am trying to make a point here...\n",
    "    return (np.empty_like(size)+1) * m0 **2"
   ]
  },
  {
   "cell_type": "code",
   "execution_count": 24,
   "metadata": {
    "collapsed": false
   },
   "outputs": [
    {
     "name": "stdout",
     "output_type": "stream",
     "text": [
      "winter, normal fit KstestResult(statistic=2296.875, pvalue=nan)\n",
      "summer, normal fit KstestResult(statistic=294225400.0, pvalue=nan)\n"
     ]
    }
   ],
   "source": [
    "ksW=scipy.stats.kstest(W_age_dist, mydistribution, args=(35,38))\n",
    "ksS=scipy.stats.kstest(S_age_dist, mydistribution, args=(35,38))\n",
    "\n",
    "print \"winter, normal fit\", ksW\n",
    "print \"summer, normal fit\", ksS"
   ]
  },
  {
   "cell_type": "markdown",
   "metadata": {},
   "source": [
    "##TODO FOR YOU!\n",
    "\n",
    "-- repeat with the AD test, and/or any other tests you wish\n",
    "\n",
    "-- do you see differences in the sample? significant differences?\n",
    "\n",
    "-- do you dare (and this is indeed optional but could be fun) splitting the samples by up- and down-town?"
   ]
  },
  {
   "cell_type": "code",
   "execution_count": 25,
   "metadata": {
    "collapsed": false
   },
   "outputs": [
    {
     "name": "stdout",
     "output_type": "stream",
     "text": [
      "Winter on normal AndersonResult(statistic=0.47194121938404265, critical_values=array([ 0.519,  0.591,  0.709,  0.827,  0.984]), significance_level=array([ 15. ,  10. ,   5. ,   2.5,   1. ]))\n",
      "Summer on normal AndersonResult(statistic=0.47063092910974369, critical_values=array([ 0.519,  0.591,  0.709,  0.827,  0.984]), significance_level=array([ 15. ,  10. ,   5. ,   2.5,   1. ]))\n"
     ]
    }
   ],
   "source": [
    "adW=scipy.stats.anderson(W_age_dist['count_nonzero'], dist='norm')\n",
    "print \"Winter on normal\", adW\n",
    "adS=scipy.stats.anderson(S_age_dist['count_nonzero'], dist='norm')\n",
    "print \"Summer on normal\", adS"
   ]
  },
  {
   "cell_type": "markdown",
   "metadata": {},
   "source": [
    "**Philipp**: It looks like that statistics is pretty small in both cases so we can reject Null Hypotesis that any of those samples are formed by normal distribution"
   ]
  },
  {
   "cell_type": "code",
   "execution_count": 27,
   "metadata": {
    "collapsed": false
   },
   "outputs": [
    {
     "name": "stdout",
     "output_type": "stream",
     "text": [
      "Ks_2sampResult(statistic=0.055185188853269729, pvalue=0.0)\n"
     ]
    }
   ],
   "source": [
    "ks=scipy.stats.ks_2samp(winter.age.dropna(), summer.age.dropna())\n",
    "print ks"
   ]
  },
  {
   "cell_type": "code",
   "execution_count": null,
   "metadata": {
    "collapsed": true
   },
   "outputs": [],
   "source": []
  }
 ],
 "metadata": {
  "kernelspec": {
   "display_name": "Python 2",
   "language": "python",
   "name": "python2"
  },
  "language_info": {
   "codemirror_mode": {
    "name": "ipython",
    "version": 2
   },
   "file_extension": ".py",
   "mimetype": "text/x-python",
   "name": "python",
   "nbconvert_exporter": "python",
   "pygments_lexer": "ipython2",
   "version": "2.7.10"
  }
 },
 "nbformat": 4,
 "nbformat_minor": 0
}
