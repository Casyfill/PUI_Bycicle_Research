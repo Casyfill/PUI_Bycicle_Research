{
 "cells": [
  {
   "cell_type": "markdown",
   "metadata": {},
   "source": [
    "# Idea: \n",
    "\n",
    "Citi Bike riders in Brooklyn are younger than riders in Manhattan\n",
    "\n",
    "# Hypotheses:\n",
    "\n",
    "* **Null hypothesis**: The average age of subscribers who start rides in Brooklyn stations is greater or the same as subscribers who start rides in Manhattan stations\n",
    "* **Alternative hypothesis**: The average of subscribers who start rides in Brooklyn stations is lower than that of subscribers who start rides in Manhattan stations"
   ]
  },
  {
   "cell_type": "markdown",
   "metadata": {},
   "source": [
    "# Work flow"
   ]
  },
  {
   "cell_type": "code",
   "execution_count": 1,
   "metadata": {
    "collapsed": false
   },
   "outputs": [
    {
     "name": "stdout",
     "output_type": "stream",
     "text": [
      "Populating the interactive namespace from numpy and matplotlib\n"
     ]
    }
   ],
   "source": [
    "import pylab as pl\n",
    "import pandas as pd\n",
    "import geopandas as gp\n",
    "import numpy as np\n",
    "\n",
    "import sys\n",
    "import scipy.stats\n",
    "\n",
    "import requests\n",
    "from shapely.geometry import Point, MultiPolygon\n",
    "\n",
    "%pylab inline"
   ]
  },
  {
   "cell_type": "markdown",
   "metadata": {},
   "source": [
    "## I. Loading and processing stations data"
   ]
  },
  {
   "cell_type": "code",
   "execution_count": 3,
   "metadata": {
    "collapsed": false
   },
   "outputs": [],
   "source": [
    "# Creating csv of station data from Citi Bike\n",
    "# stations.to_csv('data/stations.csv')"
   ]
  },
  {
   "cell_type": "markdown",
   "metadata": {},
   "source": [
    "## II. Categorise stations by Borough"
   ]
  },
  {
   "cell_type": "markdown",
   "metadata": {},
   "source": [
    "The csv of station coordinates was then used to join each station id (sid)\n",
    "with the borough it falls within and resaved as **stations.csv** with the joined **'boro'** field in **ArchGIS**"
   ]
  },
  {
   "cell_type": "markdown",
   "metadata": {},
   "source": [
    "Here is the alternative pythonic solution"
   ]
  },
  {
   "cell_type": "code",
   "execution_count": 4,
   "metadata": {
    "collapsed": false
   },
   "outputs": [],
   "source": [
    "stations['geometry'] = stations.apply(lambda z: Point(z.longitude, z.latitude), axis=1)\n",
    "stations = gp.GeoDataFrame(stations)"
   ]
  },
  {
   "cell_type": "code",
   "execution_count": 5,
   "metadata": {
    "collapsed": false
   },
   "outputs": [
    {
     "data": {
      "text/html": [
       "<div>\n",
       "<table border=\"1\" class=\"dataframe\">\n",
       "  <thead>\n",
       "    <tr style=\"text-align: right;\">\n",
       "      <th></th>\n",
       "      <th>BoroCode</th>\n",
       "      <th>BoroName</th>\n",
       "      <th>Shape_Area</th>\n",
       "      <th>Shape_Leng</th>\n",
       "      <th>geometry</th>\n",
       "      <th>id</th>\n",
       "    </tr>\n",
       "  </thead>\n",
       "  <tbody>\n",
       "    <tr>\n",
       "      <th>0</th>\n",
       "      <td>5</td>\n",
       "      <td>Staten Island</td>\n",
       "      <td>1.623827e+09</td>\n",
       "      <td>330457.564664</td>\n",
       "      <td>(POLYGON ((-74.04149346307953 40.5706893260104...</td>\n",
       "      <td>0</td>\n",
       "    </tr>\n",
       "    <tr>\n",
       "      <th>1</th>\n",
       "      <td>3</td>\n",
       "      <td>Brooklyn</td>\n",
       "      <td>1.937597e+09</td>\n",
       "      <td>741185.900232</td>\n",
       "      <td>(POLYGON ((-73.85803149795356 40.5863413312228...</td>\n",
       "      <td>1</td>\n",
       "    </tr>\n",
       "    <tr>\n",
       "      <th>2</th>\n",
       "      <td>1</td>\n",
       "      <td>Manhattan</td>\n",
       "      <td>6.364467e+08</td>\n",
       "      <td>358408.460730</td>\n",
       "      <td>(POLYGON ((-74.00189504174071 40.6887586210318...</td>\n",
       "      <td>2</td>\n",
       "    </tr>\n",
       "    <tr>\n",
       "      <th>3</th>\n",
       "      <td>2</td>\n",
       "      <td>Bronx</td>\n",
       "      <td>1.186973e+09</td>\n",
       "      <td>464400.193625</td>\n",
       "      <td>(POLYGON ((-73.88775209444856 40.8000693909507...</td>\n",
       "      <td>3</td>\n",
       "    </tr>\n",
       "    <tr>\n",
       "      <th>4</th>\n",
       "      <td>4</td>\n",
       "      <td>Queens</td>\n",
       "      <td>3.045166e+09</td>\n",
       "      <td>897062.818305</td>\n",
       "      <td>(POLYGON ((-73.82764882165355 40.5991979944789...</td>\n",
       "      <td>4</td>\n",
       "    </tr>\n",
       "  </tbody>\n",
       "</table>\n",
       "</div>"
      ],
      "text/plain": [
       "   BoroCode       BoroName    Shape_Area     Shape_Leng  \\\n",
       "0         5  Staten Island  1.623827e+09  330457.564664   \n",
       "1         3       Brooklyn  1.937597e+09  741185.900232   \n",
       "2         1      Manhattan  6.364467e+08  358408.460730   \n",
       "3         2          Bronx  1.186973e+09  464400.193625   \n",
       "4         4         Queens  3.045166e+09  897062.818305   \n",
       "\n",
       "                                            geometry id  \n",
       "0  (POLYGON ((-74.04149346307953 40.5706893260104...  0  \n",
       "1  (POLYGON ((-73.85803149795356 40.5863413312228...  1  \n",
       "2  (POLYGON ((-74.00189504174071 40.6887586210318...  2  \n",
       "3  (POLYGON ((-73.88775209444856 40.8000693909507...  3  \n",
       "4  (POLYGON ((-73.82764882165355 40.5991979944789...  4  "
      ]
     },
     "execution_count": 5,
     "metadata": {},
     "output_type": "execute_result"
    }
   ],
   "source": [
    "boroughs = gp.read_file(\"/Users/casy/Dropbox/CUSP/1_1_PUI/PUI_Bycicle_Research/data/nybb_15c/borrows15_2.geojson\")\n",
    "boroughs"
   ]
  },
  {
   "cell_type": "code",
   "execution_count": 6,
   "metadata": {
    "collapsed": false
   },
   "outputs": [
    {
     "data": {
      "image/png": "[encoded data removed]",
      "text/plain": [
       "<matplotlib.figure.Figure at 0x10ff378d0>"
      ]
     },
     "metadata": {},
     "output_type": "display_data"
    }
   ],
   "source": [
    "boroughs.plot();\n",
    "stations.plot();"
   ]
  },
  {
   "cell_type": "markdown",
   "metadata": {},
   "source": [
    "#### Categorise stations by borough"
   ]
  },
  {
   "cell_type": "code",
   "execution_count": 9,
   "metadata": {
    "collapsed": false
   },
   "outputs": [
    {
     "data": {
      "text/html": [
       "<div>\n",
       "<table border=\"1\" class=\"dataframe\">\n",
       "  <thead>\n",
       "    <tr style=\"text-align: right;\">\n",
       "      <th></th>\n",
       "      <th>altitude</th>\n",
       "      <th>availableBikes</th>\n",
       "      <th>availableDocks</th>\n",
       "      <th>city</th>\n",
       "      <th>id</th>\n",
       "      <th>landMark</th>\n",
       "      <th>lastCommunicationTime</th>\n",
       "      <th>latitude</th>\n",
       "      <th>location</th>\n",
       "      <th>longitude</th>\n",
       "      <th>...</th>\n",
       "      <th>statusKey</th>\n",
       "      <th>statusValue</th>\n",
       "      <th>testStation</th>\n",
       "      <th>totalDocks</th>\n",
       "      <th>geometry</th>\n",
       "      <th>Staten Island</th>\n",
       "      <th>Brooklyn</th>\n",
       "      <th>Manhattan</th>\n",
       "      <th>Bronx</th>\n",
       "      <th>Queens</th>\n",
       "    </tr>\n",
       "  </thead>\n",
       "  <tbody>\n",
       "    <tr>\n",
       "      <th>0</th>\n",
       "      <td></td>\n",
       "      <td>6</td>\n",
       "      <td>33</td>\n",
       "      <td></td>\n",
       "      <td>72</td>\n",
       "      <td></td>\n",
       "      <td>2015-10-04 04:43:22 PM</td>\n",
       "      <td>40.767272</td>\n",
       "      <td></td>\n",
       "      <td>-73.993929</td>\n",
       "      <td>...</td>\n",
       "      <td>1</td>\n",
       "      <td>In Service</td>\n",
       "      <td>False</td>\n",
       "      <td>39</td>\n",
       "      <td>POINT (-73.99392888 40.76727216)</td>\n",
       "      <td>False</td>\n",
       "      <td>False</td>\n",
       "      <td>False</td>\n",
       "      <td>False</td>\n",
       "      <td>False</td>\n",
       "    </tr>\n",
       "    <tr>\n",
       "      <th>1</th>\n",
       "      <td></td>\n",
       "      <td>26</td>\n",
       "      <td>6</td>\n",
       "      <td></td>\n",
       "      <td>79</td>\n",
       "      <td></td>\n",
       "      <td>2015-10-04 04:42:26 PM</td>\n",
       "      <td>40.719116</td>\n",
       "      <td></td>\n",
       "      <td>-74.006667</td>\n",
       "      <td>...</td>\n",
       "      <td>1</td>\n",
       "      <td>In Service</td>\n",
       "      <td>False</td>\n",
       "      <td>33</td>\n",
       "      <td>POINT (-74.00666661 40.71911552)</td>\n",
       "      <td>False</td>\n",
       "      <td>False</td>\n",
       "      <td>True</td>\n",
       "      <td>False</td>\n",
       "      <td>False</td>\n",
       "    </tr>\n",
       "    <tr>\n",
       "      <th>2</th>\n",
       "      <td></td>\n",
       "      <td>16</td>\n",
       "      <td>11</td>\n",
       "      <td></td>\n",
       "      <td>82</td>\n",
       "      <td></td>\n",
       "      <td>2015-10-04 04:42:26 PM</td>\n",
       "      <td>40.711174</td>\n",
       "      <td></td>\n",
       "      <td>-74.000165</td>\n",
       "      <td>...</td>\n",
       "      <td>1</td>\n",
       "      <td>In Service</td>\n",
       "      <td>False</td>\n",
       "      <td>27</td>\n",
       "      <td>POINT (-74.00016545 40.71117416)</td>\n",
       "      <td>False</td>\n",
       "      <td>False</td>\n",
       "      <td>True</td>\n",
       "      <td>False</td>\n",
       "      <td>False</td>\n",
       "    </tr>\n",
       "  </tbody>\n",
       "</table>\n",
       "<p>3 rows × 24 columns</p>\n",
       "</div>"
      ],
      "text/plain": [
       "  altitude  availableBikes  availableDocks city  id landMark  \\\n",
       "0                        6              33       72            \n",
       "1                       26               6       79            \n",
       "2                       16              11       82            \n",
       "\n",
       "    lastCommunicationTime   latitude location  longitude  ...   statusKey  \\\n",
       "0  2015-10-04 04:43:22 PM  40.767272          -73.993929  ...           1   \n",
       "1  2015-10-04 04:42:26 PM  40.719116          -74.006667  ...           1   \n",
       "2  2015-10-04 04:42:26 PM  40.711174          -74.000165  ...           1   \n",
       "\n",
       "  statusValue testStation totalDocks                          geometry  \\\n",
       "0  In Service       False         39  POINT (-73.99392888 40.76727216)   \n",
       "1  In Service       False         33  POINT (-74.00666661 40.71911552)   \n",
       "2  In Service       False         27  POINT (-74.00016545 40.71117416)   \n",
       "\n",
       "  Staten Island Brooklyn  Manhattan  Bronx Queens  \n",
       "0         False    False      False  False  False  \n",
       "1         False    False       True  False  False  \n",
       "2         False    False       True  False  False  \n",
       "\n",
       "[3 rows x 24 columns]"
      ]
     },
     "execution_count": 9,
     "metadata": {},
     "output_type": "execute_result"
    }
   ],
   "source": [
    "def BoroIntersect(boro):\n",
    "    global stations\n",
    "#     print boro.BoroCode\n",
    "    bName = boro.BoroName\n",
    "    p = MultiPolygon(boro.geometry)\n",
    "\n",
    "    stations[bName] = stations.intersects(p)\n",
    "\n",
    "boroughs.apply(lambda b: BoroIntersect(b),1)        \n",
    "stations.head(3)\n",
    "    "
   ]
  },
  {
   "cell_type": "code",
   "execution_count": 26,
   "metadata": {
    "collapsed": false
   },
   "outputs": [
    {
     "data": {
      "text/plain": [
       "Index([             u'altitude',        u'availableBikes',\n",
       "              u'availableDocks',                  u'city',\n",
       "                          u'id',              u'landMark',\n",
       "       u'lastCommunicationTime',              u'latitude',\n",
       "                    u'location',             u'longitude',\n",
       "                  u'postalCode',            u'stAddress1',\n",
       "                  u'stAddress2',           u'stationName',\n",
       "                   u'statusKey',           u'statusValue',\n",
       "                 u'testStation',            u'totalDocks',\n",
       "                    u'geometry',         u'Staten Island',\n",
       "                    u'Brooklyn',             u'Manhattan',\n",
       "                       u'Bronx',                u'Queens',\n",
       "                        u'Boro'],\n",
       "      dtype='object')"
      ]
     },
     "execution_count": 26,
     "metadata": {},
     "output_type": "execute_result"
    }
   ],
   "source": [
    "stations.columns"
   ]
  },
  {
   "cell_type": "code",
   "execution_count": 35,
   "metadata": {
    "collapsed": false
   },
   "outputs": [
    {
     "data": {
      "text/plain": [
       "Manhattan    248\n",
       "Brooklyn     137\n",
       "Queens         8\n",
       "dtype: int64"
      ]
     },
     "execution_count": 35,
     "metadata": {},
     "output_type": "execute_result"
    }
   ],
   "source": [
    "\n",
    "def getBName(station):\n",
    "    bs = [u'Brooklyn', u'Manhattan', u'Bronx', u'Queens']\n",
    "    name = None\n",
    "    for b in bs:\n",
    "        if station[b]: name = b\n",
    "\n",
    "    return name\n",
    "\n",
    "stations['Boro']= stations.apply(lambda x: getBName(x), 1);\n",
    "stations['Boro'].value_counts()"
   ]
  },
  {
   "cell_type": "markdown",
   "metadata": {},
   "source": []
  },
  {
   "cell_type": "code",
   "execution_count": 4,
   "metadata": {
    "collapsed": false
   },
   "outputs": [
    {
     "data": {
      "text/html": [
       "<div>\n",
       "<table border=\"1\" class=\"dataframe\">\n",
       "  <thead>\n",
       "    <tr style=\"text-align: right;\">\n",
       "      <th></th>\n",
       "      <th>X</th>\n",
       "      <th>Y</th>\n",
       "      <th>sid</th>\n",
       "      <th>lat</th>\n",
       "      <th>long</th>\n",
       "      <th>boro</th>\n",
       "    </tr>\n",
       "  </thead>\n",
       "  <tbody>\n",
       "    <tr>\n",
       "      <th>0</th>\n",
       "      <td>-73.976323</td>\n",
       "      <td>40.683826</td>\n",
       "      <td>83</td>\n",
       "      <td>40.683826</td>\n",
       "      <td>-73.976323</td>\n",
       "      <td>BK</td>\n",
       "    </tr>\n",
       "    <tr>\n",
       "      <th>1</th>\n",
       "      <td>-73.978034</td>\n",
       "      <td>40.696089</td>\n",
       "      <td>119</td>\n",
       "      <td>40.696089</td>\n",
       "      <td>-73.978034</td>\n",
       "      <td>BK</td>\n",
       "    </tr>\n",
       "    <tr>\n",
       "      <th>2</th>\n",
       "      <td>-73.959282</td>\n",
       "      <td>40.686768</td>\n",
       "      <td>120</td>\n",
       "      <td>40.686768</td>\n",
       "      <td>-73.959282</td>\n",
       "      <td>BK</td>\n",
       "    </tr>\n",
       "    <tr>\n",
       "      <th>3</th>\n",
       "      <td>-73.993379</td>\n",
       "      <td>40.692395</td>\n",
       "      <td>143</td>\n",
       "      <td>40.692395</td>\n",
       "      <td>-73.993379</td>\n",
       "      <td>BK</td>\n",
       "    </tr>\n",
       "    <tr>\n",
       "      <th>4</th>\n",
       "      <td>-73.980689</td>\n",
       "      <td>40.698399</td>\n",
       "      <td>144</td>\n",
       "      <td>40.698399</td>\n",
       "      <td>-73.980689</td>\n",
       "      <td>BK</td>\n",
       "    </tr>\n",
       "  </tbody>\n",
       "</table>\n",
       "</div>"
      ],
      "text/plain": [
       "           X          Y  sid        lat       long boro\n",
       "0 -73.976323  40.683826   83  40.683826 -73.976323   BK\n",
       "1 -73.978034  40.696089  119  40.696089 -73.978034   BK\n",
       "2 -73.959282  40.686768  120  40.686768 -73.959282   BK\n",
       "3 -73.993379  40.692395  143  40.692395 -73.993379   BK\n",
       "4 -73.980689  40.698399  144  40.698399 -73.980689   BK"
      ]
     },
     "execution_count": 4,
     "metadata": {},
     "output_type": "execute_result"
    }
   ],
   "source": [
    "# Reading in the csv of stations that have been joined with their borough (MH and BK only)\n",
    "stations = pd.read_csv('/Users/hannahbkates/Desktop/stations.csv')\n",
    "stations.head(5)"
   ]
  },
  {
   "cell_type": "code",
   "execution_count": 51,
   "metadata": {
    "collapsed": false
   },
   "outputs": [
    {
     "data": {
      "text/html": [
       "<div>\n",
       "<table border=\"1\" class=\"dataframe\">\n",
       "  <thead>\n",
       "    <tr style=\"text-align: right;\">\n",
       "      <th></th>\n",
       "      <th>sid</th>\n",
       "      <th>tripduration</th>\n",
       "      <th>start station id</th>\n",
       "      <th>start station latitude</th>\n",
       "      <th>start station longitude</th>\n",
       "      <th>end station id</th>\n",
       "      <th>end station latitude</th>\n",
       "      <th>end station longitude</th>\n",
       "      <th>bikeid</th>\n",
       "      <th>birth year</th>\n",
       "      <th>gender</th>\n",
       "      <th>age</th>\n",
       "    </tr>\n",
       "  </thead>\n",
       "  <tbody>\n",
       "    <tr>\n",
       "      <th>0</th>\n",
       "      <td>72</td>\n",
       "      <td>807</td>\n",
       "      <td>72</td>\n",
       "      <td>40.767272</td>\n",
       "      <td>-73.993929</td>\n",
       "      <td>450</td>\n",
       "      <td>40.752554</td>\n",
       "      <td>-73.992390</td>\n",
       "      <td>18003.0</td>\n",
       "      <td>1977</td>\n",
       "      <td>1</td>\n",
       "      <td>38</td>\n",
       "    </tr>\n",
       "    <tr>\n",
       "      <th>1</th>\n",
       "      <td>79</td>\n",
       "      <td>561</td>\n",
       "      <td>79</td>\n",
       "      <td>40.719116</td>\n",
       "      <td>-74.006667</td>\n",
       "      <td>347</td>\n",
       "      <td>40.722174</td>\n",
       "      <td>-74.002472</td>\n",
       "      <td>18099.0</td>\n",
       "      <td>1975</td>\n",
       "      <td>1</td>\n",
       "      <td>40</td>\n",
       "    </tr>\n",
       "    <tr>\n",
       "      <th>2</th>\n",
       "      <td>82</td>\n",
       "      <td>509</td>\n",
       "      <td>82</td>\n",
       "      <td>40.711174</td>\n",
       "      <td>-74.000165</td>\n",
       "      <td>329</td>\n",
       "      <td>40.714215</td>\n",
       "      <td>-73.997047</td>\n",
       "      <td>18128.0</td>\n",
       "      <td>1979</td>\n",
       "      <td>1</td>\n",
       "      <td>36</td>\n",
       "    </tr>\n",
       "    <tr>\n",
       "      <th>3</th>\n",
       "      <td>83</td>\n",
       "      <td>551</td>\n",
       "      <td>83</td>\n",
       "      <td>40.683826</td>\n",
       "      <td>-73.976323</td>\n",
       "      <td>365</td>\n",
       "      <td>40.691960</td>\n",
       "      <td>-73.972652</td>\n",
       "      <td>18019.0</td>\n",
       "      <td>1980</td>\n",
       "      <td>1</td>\n",
       "      <td>35</td>\n",
       "    </tr>\n",
       "    <tr>\n",
       "      <th>4</th>\n",
       "      <td>116</td>\n",
       "      <td>511</td>\n",
       "      <td>116</td>\n",
       "      <td>40.741776</td>\n",
       "      <td>-74.001497</td>\n",
       "      <td>458</td>\n",
       "      <td>40.743954</td>\n",
       "      <td>-73.994618</td>\n",
       "      <td>18167.5</td>\n",
       "      <td>1978</td>\n",
       "      <td>1</td>\n",
       "      <td>37</td>\n",
       "    </tr>\n",
       "  </tbody>\n",
       "</table>\n",
       "</div>"
      ],
      "text/plain": [
       "   sid  tripduration  start station id  start station latitude  \\\n",
       "0   72           807                72               40.767272   \n",
       "1   79           561                79               40.719116   \n",
       "2   82           509                82               40.711174   \n",
       "3   83           551                83               40.683826   \n",
       "4  116           511               116               40.741776   \n",
       "\n",
       "   start station longitude  end station id  end station latitude  \\\n",
       "0               -73.993929             450             40.752554   \n",
       "1               -74.006667             347             40.722174   \n",
       "2               -74.000165             329             40.714215   \n",
       "3               -73.976323             365             40.691960   \n",
       "4               -74.001497             458             40.743954   \n",
       "\n",
       "   end station longitude   bikeid  birth year  gender  age  \n",
       "0             -73.992390  18003.0        1977       1   38  \n",
       "1             -74.002472  18099.0        1975       1   40  \n",
       "2             -73.997047  18128.0        1979       1   36  \n",
       "3             -73.972652  18019.0        1980       1   35  \n",
       "4             -73.994618  18167.5        1978       1   37  "
      ]
     },
     "execution_count": 51,
     "metadata": {},
     "output_type": "execute_result"
    }
   ],
   "source": [
    "# Subsetting the trips data to only look at Subscribers and people with reasonable birth years\n",
    "trips = trips[(trips['usertype']=='Subscriber')&(trips['birth year']>1925)]\n",
    "trips['sid'] = trips['start station id']\n",
    "trips['age'] = 2015-trips['birth year']\n",
    "\n",
    "# Calculating the median age of riders from trips beginning at each sid\n",
    "stations_med_age = trips.groupby('sid', as_index=False).agg(median)\n",
    "\n",
    "type(stations_med_age)\n",
    "stations_med_age.head(5)"
   ]
  },
  {
   "cell_type": "code",
   "execution_count": 52,
   "metadata": {
    "collapsed": false
   },
   "outputs": [
    {
     "data": {
      "text/html": [
       "<div>\n",
       "<table border=\"1\" class=\"dataframe\">\n",
       "  <thead>\n",
       "    <tr style=\"text-align: right;\">\n",
       "      <th></th>\n",
       "      <th>sid</th>\n",
       "      <th>tripduration</th>\n",
       "      <th>start station id</th>\n",
       "      <th>start station latitude</th>\n",
       "      <th>start station longitude</th>\n",
       "      <th>end station id</th>\n",
       "      <th>end station latitude</th>\n",
       "      <th>end station longitude</th>\n",
       "      <th>bikeid</th>\n",
       "      <th>birth year</th>\n",
       "      <th>gender</th>\n",
       "      <th>age</th>\n",
       "      <th>X</th>\n",
       "      <th>Y</th>\n",
       "      <th>lat</th>\n",
       "      <th>long</th>\n",
       "      <th>boro</th>\n",
       "    </tr>\n",
       "  </thead>\n",
       "  <tbody>\n",
       "    <tr>\n",
       "      <th>0</th>\n",
       "      <td>72</td>\n",
       "      <td>807</td>\n",
       "      <td>72</td>\n",
       "      <td>40.767272</td>\n",
       "      <td>-73.993929</td>\n",
       "      <td>450</td>\n",
       "      <td>40.752554</td>\n",
       "      <td>-73.992390</td>\n",
       "      <td>18003.0</td>\n",
       "      <td>1977</td>\n",
       "      <td>1</td>\n",
       "      <td>38</td>\n",
       "      <td>-73.993929</td>\n",
       "      <td>40.767272</td>\n",
       "      <td>40.767272</td>\n",
       "      <td>-73.993929</td>\n",
       "      <td>MH</td>\n",
       "    </tr>\n",
       "    <tr>\n",
       "      <th>1</th>\n",
       "      <td>79</td>\n",
       "      <td>561</td>\n",
       "      <td>79</td>\n",
       "      <td>40.719116</td>\n",
       "      <td>-74.006667</td>\n",
       "      <td>347</td>\n",
       "      <td>40.722174</td>\n",
       "      <td>-74.002472</td>\n",
       "      <td>18099.0</td>\n",
       "      <td>1975</td>\n",
       "      <td>1</td>\n",
       "      <td>40</td>\n",
       "      <td>-74.006667</td>\n",
       "      <td>40.719116</td>\n",
       "      <td>40.719116</td>\n",
       "      <td>-74.006667</td>\n",
       "      <td>MH</td>\n",
       "    </tr>\n",
       "    <tr>\n",
       "      <th>2</th>\n",
       "      <td>82</td>\n",
       "      <td>509</td>\n",
       "      <td>82</td>\n",
       "      <td>40.711174</td>\n",
       "      <td>-74.000165</td>\n",
       "      <td>329</td>\n",
       "      <td>40.714215</td>\n",
       "      <td>-73.997047</td>\n",
       "      <td>18128.0</td>\n",
       "      <td>1979</td>\n",
       "      <td>1</td>\n",
       "      <td>36</td>\n",
       "      <td>-74.000165</td>\n",
       "      <td>40.711174</td>\n",
       "      <td>40.711174</td>\n",
       "      <td>-74.000165</td>\n",
       "      <td>MH</td>\n",
       "    </tr>\n",
       "    <tr>\n",
       "      <th>3</th>\n",
       "      <td>83</td>\n",
       "      <td>551</td>\n",
       "      <td>83</td>\n",
       "      <td>40.683826</td>\n",
       "      <td>-73.976323</td>\n",
       "      <td>365</td>\n",
       "      <td>40.691960</td>\n",
       "      <td>-73.972652</td>\n",
       "      <td>18019.0</td>\n",
       "      <td>1980</td>\n",
       "      <td>1</td>\n",
       "      <td>35</td>\n",
       "      <td>-73.976323</td>\n",
       "      <td>40.683826</td>\n",
       "      <td>40.683826</td>\n",
       "      <td>-73.976323</td>\n",
       "      <td>BK</td>\n",
       "    </tr>\n",
       "    <tr>\n",
       "      <th>4</th>\n",
       "      <td>116</td>\n",
       "      <td>511</td>\n",
       "      <td>116</td>\n",
       "      <td>40.741776</td>\n",
       "      <td>-74.001497</td>\n",
       "      <td>458</td>\n",
       "      <td>40.743954</td>\n",
       "      <td>-73.994618</td>\n",
       "      <td>18167.5</td>\n",
       "      <td>1978</td>\n",
       "      <td>1</td>\n",
       "      <td>37</td>\n",
       "      <td>-74.001497</td>\n",
       "      <td>40.741776</td>\n",
       "      <td>40.741776</td>\n",
       "      <td>-74.001497</td>\n",
       "      <td>MH</td>\n",
       "    </tr>\n",
       "  </tbody>\n",
       "</table>\n",
       "</div>"
      ],
      "text/plain": [
       "   sid  tripduration  start station id  start station latitude  \\\n",
       "0   72           807                72               40.767272   \n",
       "1   79           561                79               40.719116   \n",
       "2   82           509                82               40.711174   \n",
       "3   83           551                83               40.683826   \n",
       "4  116           511               116               40.741776   \n",
       "\n",
       "   start station longitude  end station id  end station latitude  \\\n",
       "0               -73.993929             450             40.752554   \n",
       "1               -74.006667             347             40.722174   \n",
       "2               -74.000165             329             40.714215   \n",
       "3               -73.976323             365             40.691960   \n",
       "4               -74.001497             458             40.743954   \n",
       "\n",
       "   end station longitude   bikeid  birth year  gender  age          X  \\\n",
       "0             -73.992390  18003.0        1977       1   38 -73.993929   \n",
       "1             -74.002472  18099.0        1975       1   40 -74.006667   \n",
       "2             -73.997047  18128.0        1979       1   36 -74.000165   \n",
       "3             -73.972652  18019.0        1980       1   35 -73.976323   \n",
       "4             -73.994618  18167.5        1978       1   37 -74.001497   \n",
       "\n",
       "           Y        lat       long boro  \n",
       "0  40.767272  40.767272 -73.993929   MH  \n",
       "1  40.719116  40.719116 -74.006667   MH  \n",
       "2  40.711174  40.711174 -74.000165   MH  \n",
       "3  40.683826  40.683826 -73.976323   BK  \n",
       "4  40.741776  40.741776 -74.001497   MH  "
      ]
     },
     "execution_count": 52,
     "metadata": {},
     "output_type": "execute_result"
    }
   ],
   "source": [
    "# Merging together the station data - want to add the MH/BK designation)\n",
    "stations_med_age = pd.merge(stations_med_age, stations, on=['sid'])\n",
    "stations_med_age.head(5)"
   ]
  },
  {
   "cell_type": "code",
   "execution_count": 49,
   "metadata": {
    "collapsed": false
   },
   "outputs": [
    {
     "data": {
      "text/plain": [
       "<matplotlib.axes._subplots.AxesSubplot at 0x10e6db990>"
      ]
     },
     "execution_count": 49,
     "metadata": {},
     "output_type": "execute_result"
    },
    {
     "data": {
      "image/png": "[encoded data removed]",
      "text/plain": [
       "<matplotlib.figure.Figure at 0x10d9d8f10>"
      ]
     },
     "metadata": {},
     "output_type": "display_data"
    }
   ],
   "source": [
    "# Subsetting Brooklyn station data and creating histogram of the median ages\n",
    "BK = stations_med_age[stations_med_age['boro']=='BK']\n",
    "bins = np.arange(16, 69, 2)\n",
    "BK.age.groupby(pd.cut(BK.age, bins)).agg([count_nonzero]).plot(kind='bar')"
   ]
  },
  {
   "cell_type": "code",
   "execution_count": 48,
   "metadata": {
    "collapsed": false
   },
   "outputs": [
    {
     "data": {
      "text/plain": [
       "<matplotlib.axes._subplots.AxesSubplot at 0x10e1ebb90>"
      ]
     },
     "execution_count": 48,
     "metadata": {},
     "output_type": "execute_result"
    },
    {
     "data": {
      "image/png": "[encoded data removed]",
      "text/plain": [
       "<matplotlib.figure.Figure at 0x10d9d89d0>"
      ]
     },
     "metadata": {},
     "output_type": "display_data"
    }
   ],
   "source": [
    "# Subsetting Manhattan station data and creating histogram of the median ages\n",
    "MH = stations_med_age[stations_med_age['boro']=='MH']\n",
    "MH.age.groupby(pd.cut(MH.age, bins)).agg([count_nonzero]).plot(kind='bar')"
   ]
  },
  {
   "cell_type": "code",
   "execution_count": 30,
   "metadata": {
    "collapsed": false
   },
   "outputs": [
    {
     "name": "stdout",
     "output_type": "stream",
     "text": [
      "          count_nonzero\n",
      "age                    \n",
      "(16, 18]            NaN\n",
      "(18, 20]            NaN\n",
      "(20, 22]            NaN\n",
      "(22, 24]            NaN\n",
      "(24, 26]            NaN\n",
      "(26, 28]            NaN\n",
      "(28, 30]       0.000939\n",
      "(30, 32]       0.004433\n",
      "(32, 34]       0.031763\n",
      "(34, 36]       0.226464\n",
      "(36, 38]       0.091013\n",
      "(38, 40]       0.005633\n",
      "(40, 42]       0.007093\n",
      "(42, 44]       0.000000\n",
      "(44, 46]            NaN\n",
      "(46, 48]            NaN\n",
      "(48, 50]            NaN\n",
      "(50, 52]            NaN\n",
      "(52, 54]            NaN\n",
      "(54, 56]            NaN\n",
      "(56, 58]            NaN\n",
      "(58, 60]            NaN\n",
      "(60, 62]            NaN\n",
      "(62, 64]            NaN\n",
      "(64, 66]            NaN\n",
      "(66, 68]            NaN\n"
     ]
    }
   ],
   "source": [
    "# Creating cummulative distributions for BK and MH\n",
    "cMH = MH.age.groupby(pd.cut(MH.age, bins)).agg([count_nonzero]).cumsum()\n",
    "cBK = BK.age.groupby(pd.cut(BK.age, bins)).agg([count_nonzero]).cumsum()\n",
    "\n",
    "print np.abs(cBK / cBK.max()-cMH / cMH.max())"
   ]
  },
  {
   "cell_type": "code",
   "execution_count": 31,
   "metadata": {
    "collapsed": false
   },
   "outputs": [
    {
     "data": {
      "text/plain": [
       "<matplotlib.legend.Legend at 0x10e04c110>"
      ]
     },
     "execution_count": 31,
     "metadata": {},
     "output_type": "execute_result"
    },
    {
     "data": {
      "image/png": "[encoded data removed]",
      "text/plain": [
       "<matplotlib.figure.Figure at 0x10b3172d0>"
      ]
     },
     "metadata": {},
     "output_type": "display_data"
    }
   ],
   "source": [
    "pl.plot(bins[:-1] + 1, cMH / cMH.max(), label = \"Manhattan\")\n",
    "pl.plot(bins[:-1] + 1, cBK / cBK.max(), label = \"Brooklyn\")\n",
    "pl.legend()"
   ]
  },
  {
   "cell_type": "code",
   "execution_count": 47,
   "metadata": {
    "collapsed": false
   },
   "outputs": [
    {
     "name": "stdout",
     "output_type": "stream",
     "text": [
      "K-S Statistic: 0.226464\n",
      "p value: 0.003877\n"
     ]
    }
   ],
   "source": [
    "# Runnning a K-S test to compare the samples\n",
    "ks = scipy.stats.ks_2samp(MH.age, BK.age)\n",
    "print 'K-S Statistic:', round(ks[0],6)\n",
    "print 'p value:', round(ks[1],6)"
   ]
  },
  {
   "cell_type": "code",
   "execution_count": null,
   "metadata": {
    "collapsed": false
   },
   "outputs": [],
   "source": []
  },
  {
   "cell_type": "code",
   "execution_count": null,
   "metadata": {
    "collapsed": true
   },
   "outputs": [],
   "source": []
  }
 ],
 "metadata": {
  "kernelspec": {
   "display_name": "Python 2",
   "language": "python",
   "name": "python2"
  },
  "language_info": {
   "codemirror_mode": {
    "name": "ipython",
    "version": 2
   },
   "file_extension": ".py",
   "mimetype": "text/x-python",
   "name": "python",
   "nbconvert_exporter": "python",
   "pygments_lexer": "ipython2",
   "version": "2.7.10"
  }
 },
 "nbformat": 4,
 "nbformat_minor": 0
}
